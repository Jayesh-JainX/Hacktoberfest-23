{
  "nbformat": 4,
  "nbformat_minor": 0,
  "metadata": {
    "colab": {
      "provenance": [],
      "gpuType": "T4"
    },
    "kernelspec": {
      "name": "python3",
      "display_name": "Python 3"
    },
    "language_info": {
      "name": "python"
    },
    "accelerator": "GPU"
  },
  "cells": [
    {
      "cell_type": "code",
      "execution_count": null,
      "metadata": {
        "colab": {
          "base_uri": "https://localhost:8080/"
        },
        "id": "3w6tkZlZsXbL",
        "outputId": "b7112e32-14e9-4c4b-944a-65565a06751a"
      },
      "outputs": [
        {
          "output_type": "stream",
          "name": "stdout",
          "text": [
            "Drive already mounted at /content/gdrive; to attempt to forcibly remount, call drive.mount(\"/content/gdrive\", force_remount=True).\n"
          ]
        }
      ],
      "source": [
        "from google.colab import drive\n",
        "drive.mount('/content/gdrive')"
      ]
    },
    {
      "cell_type": "code",
      "source": [
        "%cd /content/gdrive/MyDrive/ML/UAV/model"
      ],
      "metadata": {
        "colab": {
          "base_uri": "https://localhost:8080/"
        },
        "id": "GrR2oPGhsbCT",
        "outputId": "3e4a769f-d3a2-4015-b2fe-804d92078cf6"
      },
      "execution_count": null,
      "outputs": [
        {
          "output_type": "stream",
          "name": "stdout",
          "text": [
            "/content/gdrive/MyDrive/ML/UAV/model\n"
          ]
        }
      ]
    },
    {
      "cell_type": "code",
      "source": [
        "train_data_path = '/content/gdrive/MyDrive/ML/UAV/dataset/train_images/'\n",
        "valid_data_path = '/content/gdrive/MyDrive/ML/UAV/dataset/valid_images/'\n",
        "test_data_path = '/content/gdrive/MyDrive/ML/UAV/dataset/test_images/'\n",
        "\n",
        "train_annots_path = '/content/gdrive/MyDrive/ML/UAV/dataset/train_annots/'\n",
        "valid_annots_path = '/content/gdrive/MyDrive/ML/UAV/dataset/valid_annots/'\n",
        "test_annots_path = '/content/gdrive/MyDrive/ML/UAV/dataset/test_annots/'"
      ],
      "metadata": {
        "id": "QuhpxB8ZseJb"
      },
      "execution_count": null,
      "outputs": []
    },
    {
      "cell_type": "code",
      "source": [
        "from xml.etree import ElementTree as et\n",
        "import cv2\n",
        "import numpy as np\n",
        "import os\n",
        "import pandas as pd"
      ],
      "metadata": {
        "id": "pucg47sHsihh"
      },
      "execution_count": null,
      "outputs": []
    },
    {
      "cell_type": "code",
      "source": [
        "CLASSES = {\n",
        "    '__background__':0,\n",
        "    'building':1,\n",
        "    'ship':2,\n",
        "    'vehicle':3,\n",
        "    'prefabricated-house':4,\n",
        "    'well':5,\n",
        "    'cable-tower':6,\n",
        "    'pool':7,\n",
        "    'landslide':8,\n",
        "    'cultivation-mesh-cage':9,\n",
        "    'quarry':10\n",
        "\n",
        "}"
      ],
      "metadata": {
        "id": "R8hHVwNqso3h"
      },
      "execution_count": null,
      "outputs": []
    },
    {
      "cell_type": "code",
      "source": [
        "def extract_from_xml(annot_path):\n",
        "  annotations = sorted([file for file in os.listdir(annot_path) if file.endswith('.xml')])\n",
        "  data = []\n",
        "  for annotation in annotations:\n",
        "    annot_file_path = os.path.join(annot_path, annotation)\n",
        "    tree = et.parse(annot_file_path)\n",
        "    root = tree.getroot()\n",
        "\n",
        "    image_id = annotation.replace('.xml', '')\n",
        "    width  = int(root.find(\"size\").find(\"width\").text)\n",
        "    height = int(root.find(\"size\").find(\"height\").text)\n",
        "\n",
        "    for member in root.findall('object'):\n",
        "        class_id = CLASSES[member.find('name').text]\n",
        "        xmin = float(member.find('bndbox').find('xmin').text)\n",
        "        xmax = float(member.find('bndbox').find('xmax').text)\n",
        "        ymin = float(member.find('bndbox').find('ymin').text)\n",
        "        ymax = float(member.find('bndbox').find('ymax').text)\n",
        "\n",
        "        if xmax == xmin:\n",
        "            xmin -= 1\n",
        "        if ymax == ymin:\n",
        "            ymin -= 1\n",
        "\n",
        "        data.append({\n",
        "            'image_id': image_id,\n",
        "            'class_id': class_id,\n",
        "            'xmin': xmin,\n",
        "            'ymin': ymin,\n",
        "            'xmax': xmax,\n",
        "            'ymax': ymax\n",
        "        })\n",
        "\n",
        "  df = pd.DataFrame(data)\n",
        "\n",
        "  return df"
      ],
      "metadata": {
        "id": "dL7Q_QIzsruz"
      },
      "execution_count": null,
      "outputs": []
    },
    {
      "cell_type": "code",
      "source": [
        "train_df = extract_from_xml(train_annots_path)\n",
        "valid_df = extract_from_xml(valid_annots_path)\n",
        "test_df = extract_from_xml(test_annots_path)\n"
      ],
      "metadata": {
        "id": "ChFkquqjstSg"
      },
      "execution_count": null,
      "outputs": []
    },
    {
      "cell_type": "code",
      "source": [
        "import torch\n",
        "import torchvision\n",
        "from torch.utils.data import Dataset, DataLoader\n",
        "from torchvision import transforms as T\n",
        "from torchvision.models.detection.faster_rcnn import FastRCNNPredictor\n",
        "import albumentations as A\n",
        "from PIL import Image"
      ],
      "metadata": {
        "id": "e6z9eDT3sutY"
      },
      "execution_count": null,
      "outputs": []
    },
    {
      "cell_type": "code",
      "source": [
        "class UAVDataset(Dataset):\n",
        "    def __init__(self, df, file_path, transform=None):\n",
        "        self.df = df\n",
        "        self.file_path = file_path\n",
        "        self.unique_imgs = self.df.image_id.unique()\n",
        "        self.transform = transform\n",
        "\n",
        "    def __len__(self):\n",
        "        return len(self.unique_imgs)\n",
        "\n",
        "    def __getitem__(self, idx):\n",
        "        image_name = self.unique_imgs[idx]\n",
        "        boxes = self.df[self.df.image_id == image_name].values[:, 2:].astype(\"float\")\n",
        "        labels = self.df[self.df.image_id == image_name].values[:, 1].astype(\"int\")\n",
        "        img = Image.open(self.file_path + image_name + \".jpg\").convert('RGB')\n",
        "        img = np.array(img)\n",
        "\n",
        "        if self.transform is not None:\n",
        "            transformed = self.transform(image=img, bboxes=boxes, category_ids=labels)\n",
        "            img = transformed['image']\n",
        "            boxes = transformed['bboxes']\n",
        "            labels = transformed['category_ids']\n",
        "\n",
        "        target = {}\n",
        "        target[\"boxes\"] = torch.tensor(boxes)\n",
        "        target[\"labels\"] = torch.tensor(labels)\n",
        "        return T.ToTensor()(img), target\n",
        "\n"
      ],
      "metadata": {
        "id": "0jD1ChjRsxNf"
      },
      "execution_count": null,
      "outputs": []
    },
    {
      "cell_type": "code",
      "source": [
        "def custom_collate(data):\n",
        "  return data"
      ],
      "metadata": {
        "id": "8_rjb8W3s2eR"
      },
      "execution_count": null,
      "outputs": []
    },
    {
      "cell_type": "code",
      "source": [
        "transform = A.Compose(\n",
        "    [A.Resize(1000, 1000, p=1.0),\n",
        "    A.HorizontalFlip(p=0.5),\n",
        "    A.Rotate(limit=30, p=0.3)],\n",
        "    bbox_params={\n",
        "        'format': 'pascal_voc',\n",
        "        'label_fields': ['category_ids']\n",
        "    })"
      ],
      "metadata": {
        "id": "KWTJbGv4s2RA"
      },
      "execution_count": null,
      "outputs": []
    },
    {
      "cell_type": "code",
      "source": [
        "train_data = DataLoader(UAVDataset(train_df, train_data_path, transform=transform),\n",
        "                        batch_size = 4,\n",
        "                        shuffle=True,\n",
        "                        collate_fn= custom_collate)\n",
        "\n",
        "valid_data = DataLoader(UAVDataset(valid_df, valid_data_path),\n",
        "                        batch_size = 4,\n",
        "                        shuffle=True,\n",
        "                        collate_fn= custom_collate)\n",
        "\n",
        "test_data = DataLoader(UAVDataset(test_df, test_data_path),\n",
        "                        batch_size = 4,\n",
        "                        shuffle=True,\n",
        "                        collate_fn= custom_collate)"
      ],
      "metadata": {
        "id": "ViK5TPqKs2Jr"
      },
      "execution_count": null,
      "outputs": []
    },
    {
      "cell_type": "code",
      "source": [
        "model = torchvision.models.detection.fasterrcnn_resnet50_fpn_v2(pretrained = True)\n",
        "num_classes = len(CLASSES)\n",
        "in_features = model.roi_heads.box_predictor.cls_score.in_features\n",
        "model.roi_heads.box_predictor = FastRCNNPredictor(in_features, num_classes)"
      ],
      "metadata": {
        "colab": {
          "base_uri": "https://localhost:8080/"
        },
        "id": "3bfwuOegs1_1",
        "outputId": "506b12da-b85b-435a-dc17-8c2d483eba50"
      },
      "execution_count": null,
      "outputs": [
        {
          "output_type": "stream",
          "name": "stderr",
          "text": [
            "/usr/local/lib/python3.10/dist-packages/torchvision/models/_utils.py:208: UserWarning: The parameter 'pretrained' is deprecated since 0.13 and may be removed in the future, please use 'weights' instead.\n",
            "  warnings.warn(\n",
            "/usr/local/lib/python3.10/dist-packages/torchvision/models/_utils.py:223: UserWarning: Arguments other than a weight enum or `None` for 'weights' are deprecated since 0.13 and may be removed in the future. The current behavior is equivalent to passing `weights=FasterRCNN_ResNet50_FPN_V2_Weights.COCO_V1`. You can also use `weights=FasterRCNN_ResNet50_FPN_V2_Weights.DEFAULT` to get the most up-to-date weights.\n",
            "  warnings.warn(msg)\n",
            "Downloading: \"https://download.pytorch.org/models/fasterrcnn_resnet50_fpn_v2_coco-dd69338a.pth\" to /root/.cache/torch/hub/checkpoints/fasterrcnn_resnet50_fpn_v2_coco-dd69338a.pth\n",
            "100%|██████████| 167M/167M [00:00<00:00, 288MB/s]\n"
          ]
        }
      ]
    },
    {
      "cell_type": "code",
      "source": [
        "device = torch.device('cuda') if torch.cuda.is_available() else torch.device('cpu')"
      ],
      "metadata": {
        "id": "XoHGp--otH_X"
      },
      "execution_count": null,
      "outputs": []
    },
    {
      "cell_type": "code",
      "source": [
        "optimizer = torch.optim.SGD(model.parameters(), lr = 0.001, momentum=0.9, weight_decay= 0.0005)\n",
        "num_epochs = 5"
      ],
      "metadata": {
        "id": "_vIMlAmsva-S"
      },
      "execution_count": null,
      "outputs": []
    },
    {
      "cell_type": "code",
      "source": [
        "\n",
        "from torch.cuda.amp import autocast, GradScaler\n",
        "\n",
        "\n",
        "model.to(device)\n",
        "scaler = GradScaler()\n",
        "\n",
        "for epoch in range(num_epochs):\n",
        "    epoch_loss = 0\n",
        "\n",
        "    for batch_idx, data in enumerate(train_data):\n",
        "        imgs = [d[0].to(device) for d in data]\n",
        "        targets = [{\"boxes\": d[1][\"boxes\"].to(device), \"labels\": d[1][\"labels\"].to(device)} for d in data]\n",
        "\n",
        "        optimizer.zero_grad()\n",
        "\n",
        "        with autocast():\n",
        "            loss_dict = model(imgs, targets)\n",
        "            loss = sum(loss for loss in loss_dict.values())\n",
        "\n",
        "        scaler.scale(loss).backward()\n",
        "\n",
        "        if (batch_idx + 1) % 32 == 0:\n",
        "            scaler.step(optimizer)\n",
        "            scaler.update()\n",
        "            optimizer.zero_grad()\n",
        "\n",
        "        epoch_loss += loss.item()\n",
        "\n",
        "    print(f\"Epoch [{epoch+1}/{num_epochs}] Loss: {epoch_loss:.4f}\")\n"
      ],
      "metadata": {
        "id": "3UabqG_rtJbD"
      },
      "execution_count": null,
      "outputs": []
    },
    {
      "cell_type": "code",
      "source": [
        "import pickle\n",
        "pickle.dump(model, open('model.pkl', 'wb'))"
      ],
      "metadata": {
        "id": "ei3kMJpo6M15"
      },
      "execution_count": null,
      "outputs": []
    },
    {
      "cell_type": "code",
      "source": [
        "from torchmetrics.detection.mean_ap import MeanAveragePrecision\n",
        "metric = MeanAveragePrecision()"
      ],
      "metadata": {
        "id": "6dtKquePxrXH"
      },
      "execution_count": null,
      "outputs": []
    },
    {
      "cell_type": "code",
      "source": [
        "def evaluate_model(model, test_data):\n",
        "  model.eval()\n",
        "  target = []\n",
        "  preds = []\n",
        "\n",
        "  for batch_idx, data in enumerate(train_data):\n",
        "        imgs = [d[0].to(device) for d in data]\n",
        "        targets = [{\"boxes\": d[1][\"boxes\"].to(device), \"labels\": d[1][\"labels\"].to(device)} for d in data]\n",
        "\n",
        "  with torch.no_grad():\n",
        "            outputs = model(imgs, targets)\n",
        "\n",
        "  for i in range(len(imgs)):\n",
        "            true_dict = dict()\n",
        "            preds_dict = dict()\n",
        "            true_dict['boxes'] = targets[i]['boxes'].detach()\n",
        "            true_dict['labels'] = targets[i]['labels'].detach()\n",
        "            preds_dict['boxes'] = outputs[i]['boxes'].detach()\n",
        "            preds_dict['scores'] = outputs[i]['scores'].detach()\n",
        "            preds_dict['labels'] = outputs[i]['labels'].detach()\n",
        "            preds.append(preds_dict)\n",
        "            target.append(true_dict)\n",
        "\n",
        "  metric.reset()\n",
        "  metric.update(preds, target)\n",
        "  metric_summary = metric.compute()\n",
        "  return metric_summary"
      ],
      "metadata": {
        "id": "49l7i1Gawaj5"
      },
      "execution_count": null,
      "outputs": []
    }
  ]
}